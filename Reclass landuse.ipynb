{
 "cells": [
  {
   "cell_type": "code",
   "execution_count": 13,
   "metadata": {},
   "outputs": [],
   "source": [
    "#Will map land use and soil categories\n",
    "\n",
    "#Import modules\n",
    "import arcpy\n",
    "from arcpy import env\n",
    "from arcpy.sa import *\n",
    "\n",
    "# Set environmental settings\n",
    "\n",
    "env.workspace = \"C:/Users/sergi/Documents/Python Scripts/Raster\"\n",
    "\n",
    "#Set local variables\n",
    "inRaster =  \"landuse_kfs.tif\"\n",
    "reclassField = \"Value\"\n",
    "remap = RemapValue([[1, 100],[2,200],[3,300],[4,400],[5,500]])\n",
    "\n",
    "#Check out the ArcGIS Spatial Analysis extension license\n",
    "\n",
    "arcpy.CheckOutExtension(\"Spatial\")\n",
    "\n",
    "#Execute Reclassify\n",
    "outReclassify = Reclassify(inRaster, reclassField, remap, \"NODATA\")\n",
    "\n",
    "#Save the output\n",
    "\n",
    "outReclassify.save(\"C:/Users/sergi/Documents/Python Scripts/Raster/outreclass01\")\n"
   ]
  },
  {
   "cell_type": "code",
   "execution_count": null,
   "metadata": {},
   "outputs": [],
   "source": []
  }
 ],
 "metadata": {
  "kernelspec": {
   "display_name": "Python 3",
   "language": "python",
   "name": "python3"
  },
  "language_info": {
   "codemirror_mode": {
    "name": "ipython",
    "version": 3
   },
   "file_extension": ".py",
   "mimetype": "text/x-python",
   "name": "python",
   "nbconvert_exporter": "python",
   "pygments_lexer": "ipython3",
   "version": "3.6.8"
  }
 },
 "nbformat": 4,
 "nbformat_minor": 2
}
